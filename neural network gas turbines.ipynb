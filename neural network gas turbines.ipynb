{
 "cells": [
  {
   "cell_type": "code",
   "execution_count": 4,
   "metadata": {},
   "outputs": [],
   "source": [
    "import pandas as pd\n",
    "import numpy as np\n",
    "from sklearn.model_selection import train_test_split\n",
    "from sklearn.metrics import confusion_matrix\n",
    "from keras.models import Sequential\n",
    "from keras.layers import Dense, Activation,Layer,Lambda\n",
    "import seaborn as sns\n",
    "from sklearn.model_selection import train_test_split\n",
    "from matplotlib import pyplot as plt\n",
    "from sklearn.decomposition import PCA\n",
    "from mlxtend.plotting import plot_decision_regions"
   ]
  },
  {
   "cell_type": "code",
   "execution_count": 5,
   "metadata": {},
   "outputs": [],
   "source": [
    "dataset = pd.read_csv(\"C:/Users/DIKSHA/Downloads/gas_turbines (1).csv\")"
   ]
  },
  {
   "cell_type": "code",
   "execution_count": 6,
   "metadata": {},
   "outputs": [
    {
     "data": {
      "text/html": [
       "<div>\n",
       "<style scoped>\n",
       "    .dataframe tbody tr th:only-of-type {\n",
       "        vertical-align: middle;\n",
       "    }\n",
       "\n",
       "    .dataframe tbody tr th {\n",
       "        vertical-align: top;\n",
       "    }\n",
       "\n",
       "    .dataframe thead th {\n",
       "        text-align: right;\n",
       "    }\n",
       "</style>\n",
       "<table border=\"1\" class=\"dataframe\">\n",
       "  <thead>\n",
       "    <tr style=\"text-align: right;\">\n",
       "      <th></th>\n",
       "      <th>AT</th>\n",
       "      <th>AP</th>\n",
       "      <th>AH</th>\n",
       "      <th>AFDP</th>\n",
       "      <th>GTEP</th>\n",
       "      <th>TIT</th>\n",
       "      <th>TAT</th>\n",
       "      <th>TEY</th>\n",
       "      <th>CDP</th>\n",
       "      <th>CO</th>\n",
       "      <th>NOX</th>\n",
       "    </tr>\n",
       "  </thead>\n",
       "  <tbody>\n",
       "    <tr>\n",
       "      <th>0</th>\n",
       "      <td>6.8594</td>\n",
       "      <td>1007.9</td>\n",
       "      <td>96.799</td>\n",
       "      <td>3.5000</td>\n",
       "      <td>19.663</td>\n",
       "      <td>1059.2</td>\n",
       "      <td>550.00</td>\n",
       "      <td>114.70</td>\n",
       "      <td>10.605</td>\n",
       "      <td>3.1547</td>\n",
       "      <td>82.722</td>\n",
       "    </tr>\n",
       "    <tr>\n",
       "      <th>1</th>\n",
       "      <td>6.7850</td>\n",
       "      <td>1008.4</td>\n",
       "      <td>97.118</td>\n",
       "      <td>3.4998</td>\n",
       "      <td>19.728</td>\n",
       "      <td>1059.3</td>\n",
       "      <td>550.00</td>\n",
       "      <td>114.72</td>\n",
       "      <td>10.598</td>\n",
       "      <td>3.2363</td>\n",
       "      <td>82.776</td>\n",
       "    </tr>\n",
       "    <tr>\n",
       "      <th>2</th>\n",
       "      <td>6.8977</td>\n",
       "      <td>1008.8</td>\n",
       "      <td>95.939</td>\n",
       "      <td>3.4824</td>\n",
       "      <td>19.779</td>\n",
       "      <td>1059.4</td>\n",
       "      <td>549.87</td>\n",
       "      <td>114.71</td>\n",
       "      <td>10.601</td>\n",
       "      <td>3.2012</td>\n",
       "      <td>82.468</td>\n",
       "    </tr>\n",
       "    <tr>\n",
       "      <th>3</th>\n",
       "      <td>7.0569</td>\n",
       "      <td>1009.2</td>\n",
       "      <td>95.249</td>\n",
       "      <td>3.4805</td>\n",
       "      <td>19.792</td>\n",
       "      <td>1059.6</td>\n",
       "      <td>549.99</td>\n",
       "      <td>114.72</td>\n",
       "      <td>10.606</td>\n",
       "      <td>3.1923</td>\n",
       "      <td>82.670</td>\n",
       "    </tr>\n",
       "    <tr>\n",
       "      <th>4</th>\n",
       "      <td>7.3978</td>\n",
       "      <td>1009.7</td>\n",
       "      <td>95.150</td>\n",
       "      <td>3.4976</td>\n",
       "      <td>19.765</td>\n",
       "      <td>1059.7</td>\n",
       "      <td>549.98</td>\n",
       "      <td>114.72</td>\n",
       "      <td>10.612</td>\n",
       "      <td>3.2484</td>\n",
       "      <td>82.311</td>\n",
       "    </tr>\n",
       "  </tbody>\n",
       "</table>\n",
       "</div>"
      ],
      "text/plain": [
       "       AT      AP      AH    AFDP    GTEP     TIT     TAT     TEY     CDP  \\\n",
       "0  6.8594  1007.9  96.799  3.5000  19.663  1059.2  550.00  114.70  10.605   \n",
       "1  6.7850  1008.4  97.118  3.4998  19.728  1059.3  550.00  114.72  10.598   \n",
       "2  6.8977  1008.8  95.939  3.4824  19.779  1059.4  549.87  114.71  10.601   \n",
       "3  7.0569  1009.2  95.249  3.4805  19.792  1059.6  549.99  114.72  10.606   \n",
       "4  7.3978  1009.7  95.150  3.4976  19.765  1059.7  549.98  114.72  10.612   \n",
       "\n",
       "       CO     NOX  \n",
       "0  3.1547  82.722  \n",
       "1  3.2363  82.776  \n",
       "2  3.2012  82.468  \n",
       "3  3.1923  82.670  \n",
       "4  3.2484  82.311  "
      ]
     },
     "execution_count": 6,
     "metadata": {},
     "output_type": "execute_result"
    }
   ],
   "source": [
    "dataset.head()"
   ]
  },
  {
   "cell_type": "code",
   "execution_count": 7,
   "metadata": {},
   "outputs": [],
   "source": [
    "#Checking the missing values"
   ]
  },
  {
   "cell_type": "code",
   "execution_count": 8,
   "metadata": {},
   "outputs": [
    {
     "data": {
      "text/plain": [
       "AT      0\n",
       "AP      0\n",
       "AH      0\n",
       "AFDP    0\n",
       "GTEP    0\n",
       "TIT     0\n",
       "TAT     0\n",
       "TEY     0\n",
       "CDP     0\n",
       "CO      0\n",
       "NOX     0\n",
       "dtype: int64"
      ]
     },
     "execution_count": 8,
     "metadata": {},
     "output_type": "execute_result"
    }
   ],
   "source": [
    "dataset.isna().sum()"
   ]
  },
  {
   "cell_type": "markdown",
   "metadata": {},
   "source": [
    "There is no missing values in the dataset"
   ]
  },
  {
   "cell_type": "markdown",
   "metadata": {},
   "source": [
    "Splitting into X(independent variables) and Y (dependent variable)"
   ]
  },
  {
   "cell_type": "code",
   "execution_count": 9,
   "metadata": {},
   "outputs": [
    {
     "name": "stdout",
     "output_type": "stream",
     "text": [
      "(15039, 9) (15039, 2)\n"
     ]
    }
   ],
   "source": [
    "x=dataset.iloc[:,:-2]\n",
    "y=dataset.iloc[:,-2:]\n",
    "print(x.shape, y.shape)"
   ]
  },
  {
   "cell_type": "code",
   "execution_count": 10,
   "metadata": {},
   "outputs": [],
   "source": [
    "x_train,x_test,y_train,y_test = train_test_split(x,y,test_size=0.2,random_state=0)"
   ]
  },
  {
   "cell_type": "code",
   "execution_count": 11,
   "metadata": {},
   "outputs": [],
   "source": [
    "#usage of StandardScaler"
   ]
  },
  {
   "cell_type": "code",
   "execution_count": 12,
   "metadata": {},
   "outputs": [],
   "source": [
    "from sklearn.preprocessing import StandardScaler"
   ]
  },
  {
   "cell_type": "code",
   "execution_count": 13,
   "metadata": {},
   "outputs": [],
   "source": [
    "sc = StandardScaler()\n",
    "x_train=sc.fit_transform(x_train)\n",
    "x_test=sc.fit_transform(x_test)"
   ]
  },
  {
   "cell_type": "code",
   "execution_count": 14,
   "metadata": {},
   "outputs": [],
   "source": [
    "from keras.layers import Dropout"
   ]
  },
  {
   "cell_type": "markdown",
   "metadata": {},
   "source": [
    "# Initializing ANN"
   ]
  },
  {
   "cell_type": "code",
   "execution_count": 15,
   "metadata": {},
   "outputs": [],
   "source": [
    "model= Sequential()\n",
    "model.add(Dense(units=10,activation=\"relu\",kernel_initializer=\"he_uniform\",input_dim=9))\n",
    "model.add(Dense(units=2))\n",
    "#compile the model\n",
    "model.compile(optimizer=\"adam\",loss=\"mae\",metrics=[\"accuracy\"])\n",
    "def get_model(n_inputs, n_outputs):\n",
    "\tmodel = Sequential()\n",
    "\tmodel.add(Dense(10, input_dim=n_inputs, kernel_initializer='he_uniform', activation='relu'))\n",
    "\tmodel.add(Dense(n_outputs))\n",
    "\tmodel.compile(loss='mae', optimizer='adam')\n",
    "\treturn model"
   ]
  },
  {
   "cell_type": "markdown",
   "metadata": {},
   "source": [
    "# Fit the model"
   ]
  },
  {
   "cell_type": "code",
   "execution_count": 16,
   "metadata": {},
   "outputs": [
    {
     "name": "stdout",
     "output_type": "stream",
     "text": [
      "Epoch 1/150\n",
      "806/806 [==============================] - 3s 3ms/step - loss: 29.2182 - accuracy: 0.9988 - val_loss: 20.5880 - val_accuracy: 1.0000\n",
      "Epoch 2/150\n",
      "806/806 [==============================] - 2s 2ms/step - loss: 13.4679 - accuracy: 1.0000 - val_loss: 8.6007 - val_accuracy: 1.0000\n",
      "Epoch 3/150\n",
      "806/806 [==============================] - 2s 2ms/step - loss: 5.8871 - accuracy: 1.0000 - val_loss: 4.2597 - val_accuracy: 1.0000\n",
      "Epoch 4/150\n",
      "806/806 [==============================] - 2s 2ms/step - loss: 3.8304 - accuracy: 1.0000 - val_loss: 3.4620 - val_accuracy: 1.0000\n",
      "Epoch 5/150\n",
      "806/806 [==============================] - 2s 2ms/step - loss: 3.2060 - accuracy: 1.0000 - val_loss: 2.9817 - val_accuracy: 1.0000\n",
      "Epoch 6/150\n",
      "806/806 [==============================] - 2s 2ms/step - loss: 2.8477 - accuracy: 1.0000 - val_loss: 2.7223 - val_accuracy: 1.0000\n",
      "Epoch 7/150\n",
      "806/806 [==============================] - 2s 2ms/step - loss: 2.6344 - accuracy: 1.0000 - val_loss: 2.5544 - val_accuracy: 1.0000\n",
      "Epoch 8/150\n",
      "806/806 [==============================] - 2s 2ms/step - loss: 2.4934 - accuracy: 1.0000 - val_loss: 2.4297 - val_accuracy: 1.0000\n",
      "Epoch 9/150\n",
      "806/806 [==============================] - 2s 2ms/step - loss: 2.3794 - accuracy: 1.0000 - val_loss: 2.3204 - val_accuracy: 1.0000\n",
      "Epoch 10/150\n",
      "806/806 [==============================] - 2s 2ms/step - loss: 2.2739 - accuracy: 1.0000 - val_loss: 2.2304 - val_accuracy: 1.0000\n",
      "Epoch 11/150\n",
      "806/806 [==============================] - 2s 2ms/step - loss: 2.1814 - accuracy: 1.0000 - val_loss: 2.1330 - val_accuracy: 1.0000\n",
      "Epoch 12/150\n",
      "806/806 [==============================] - 2s 2ms/step - loss: 2.1005 - accuracy: 1.0000 - val_loss: 2.0656 - val_accuracy: 1.0000\n",
      "Epoch 13/150\n",
      "806/806 [==============================] - 2s 2ms/step - loss: 2.0351 - accuracy: 1.0000 - val_loss: 2.0018 - val_accuracy: 1.0000\n",
      "Epoch 14/150\n",
      "806/806 [==============================] - 2s 2ms/step - loss: 1.9790 - accuracy: 1.0000 - val_loss: 1.9621 - val_accuracy: 1.0000\n",
      "Epoch 15/150\n",
      "806/806 [==============================] - 2s 2ms/step - loss: 1.9391 - accuracy: 1.0000 - val_loss: 1.9316 - val_accuracy: 1.0000\n",
      "Epoch 16/150\n",
      "806/806 [==============================] - 2s 2ms/step - loss: 1.9106 - accuracy: 1.0000 - val_loss: 1.9222 - val_accuracy: 1.0000\n",
      "Epoch 17/150\n",
      "806/806 [==============================] - 2s 2ms/step - loss: 1.8874 - accuracy: 1.0000 - val_loss: 1.8915 - val_accuracy: 1.0000\n",
      "Epoch 18/150\n",
      "806/806 [==============================] - 2s 2ms/step - loss: 1.8702 - accuracy: 1.0000 - val_loss: 1.8834 - val_accuracy: 1.0000\n",
      "Epoch 19/150\n",
      "806/806 [==============================] - 2s 2ms/step - loss: 1.8602 - accuracy: 1.0000 - val_loss: 1.8697 - val_accuracy: 1.0000\n",
      "Epoch 20/150\n",
      "806/806 [==============================] - 2s 2ms/step - loss: 1.8514 - accuracy: 1.0000 - val_loss: 1.8634 - val_accuracy: 1.0000\n",
      "Epoch 21/150\n",
      "806/806 [==============================] - 2s 2ms/step - loss: 1.8414 - accuracy: 1.0000 - val_loss: 1.8581 - val_accuracy: 1.0000\n",
      "Epoch 22/150\n",
      "806/806 [==============================] - 2s 2ms/step - loss: 1.8373 - accuracy: 1.0000 - val_loss: 1.8544 - val_accuracy: 1.0000\n",
      "Epoch 23/150\n",
      "806/806 [==============================] - 2s 2ms/step - loss: 1.8291 - accuracy: 1.0000 - val_loss: 1.8486 - val_accuracy: 1.0000\n",
      "Epoch 24/150\n",
      "806/806 [==============================] - 2s 2ms/step - loss: 1.8249 - accuracy: 1.0000 - val_loss: 1.8467 - val_accuracy: 1.0000\n",
      "Epoch 25/150\n",
      "806/806 [==============================] - 2s 2ms/step - loss: 1.8219 - accuracy: 1.0000 - val_loss: 1.8394 - val_accuracy: 1.0000\n",
      "Epoch 26/150\n",
      "806/806 [==============================] - 2s 2ms/step - loss: 1.8174 - accuracy: 1.0000 - val_loss: 1.8367 - val_accuracy: 1.0000\n",
      "Epoch 27/150\n",
      "806/806 [==============================] - 2s 2ms/step - loss: 1.8148 - accuracy: 1.0000 - val_loss: 1.8441 - val_accuracy: 1.0000\n",
      "Epoch 28/150\n",
      "806/806 [==============================] - 2s 3ms/step - loss: 1.8108 - accuracy: 1.0000 - val_loss: 1.8374 - val_accuracy: 1.0000\n",
      "Epoch 29/150\n",
      "806/806 [==============================] - 2s 2ms/step - loss: 1.8100 - accuracy: 1.0000 - val_loss: 1.8302 - val_accuracy: 1.0000\n",
      "Epoch 30/150\n",
      "806/806 [==============================] - 2s 2ms/step - loss: 1.8073 - accuracy: 1.0000 - val_loss: 1.8288 - val_accuracy: 1.0000\n",
      "Epoch 31/150\n",
      "806/806 [==============================] - 2s 2ms/step - loss: 1.8036 - accuracy: 1.0000 - val_loss: 1.8233 - val_accuracy: 1.0000\n",
      "Epoch 32/150\n",
      "806/806 [==============================] - 2s 2ms/step - loss: 1.8009 - accuracy: 1.0000 - val_loss: 1.8252 - val_accuracy: 1.0000\n",
      "Epoch 33/150\n",
      "806/806 [==============================] - 2s 2ms/step - loss: 1.7978 - accuracy: 1.0000 - val_loss: 1.8247 - val_accuracy: 1.0000\n",
      "Epoch 34/150\n",
      "806/806 [==============================] - 2s 2ms/step - loss: 1.7983 - accuracy: 1.0000 - val_loss: 1.8318 - val_accuracy: 1.0000\n",
      "Epoch 35/150\n",
      "806/806 [==============================] - 2s 2ms/step - loss: 1.7944 - accuracy: 1.0000 - val_loss: 1.8277 - val_accuracy: 1.0000\n",
      "Epoch 36/150\n",
      "806/806 [==============================] - 2s 2ms/step - loss: 1.7920 - accuracy: 1.0000 - val_loss: 1.8317 - val_accuracy: 1.0000\n",
      "Epoch 37/150\n",
      "806/806 [==============================] - 2s 2ms/step - loss: 1.7897 - accuracy: 1.0000 - val_loss: 1.8179 - val_accuracy: 1.0000\n",
      "Epoch 38/150\n",
      "806/806 [==============================] - 2s 3ms/step - loss: 1.7881 - accuracy: 1.0000 - val_loss: 1.8200 - val_accuracy: 1.0000\n",
      "Epoch 39/150\n",
      "806/806 [==============================] - 2s 2ms/step - loss: 1.7869 - accuracy: 1.0000 - val_loss: 1.8263 - val_accuracy: 1.0000\n",
      "Epoch 40/150\n",
      "806/806 [==============================] - 2s 2ms/step - loss: 1.7841 - accuracy: 1.0000 - val_loss: 1.8251 - val_accuracy: 1.0000\n",
      "Epoch 41/150\n",
      "806/806 [==============================] - 2s 2ms/step - loss: 1.7835 - accuracy: 1.0000 - val_loss: 1.8137 - val_accuracy: 1.0000\n",
      "Epoch 42/150\n",
      "806/806 [==============================] - 2s 2ms/step - loss: 1.7806 - accuracy: 1.0000 - val_loss: 1.8156 - val_accuracy: 1.0000\n",
      "Epoch 43/150\n",
      "806/806 [==============================] - 2s 2ms/step - loss: 1.7781 - accuracy: 1.0000 - val_loss: 1.8225 - val_accuracy: 1.0000\n",
      "Epoch 44/150\n",
      "806/806 [==============================] - 2s 2ms/step - loss: 1.7780 - accuracy: 1.0000 - val_loss: 1.8154 - val_accuracy: 1.0000\n",
      "Epoch 45/150\n",
      "806/806 [==============================] - 2s 2ms/step - loss: 1.7773 - accuracy: 1.0000 - val_loss: 1.8114 - val_accuracy: 1.0000\n",
      "Epoch 46/150\n",
      "806/806 [==============================] - 2s 2ms/step - loss: 1.7765 - accuracy: 1.0000 - val_loss: 1.8121 - val_accuracy: 1.0000\n",
      "Epoch 47/150\n",
      "806/806 [==============================] - 2s 2ms/step - loss: 1.7766 - accuracy: 1.0000 - val_loss: 1.8129 - val_accuracy: 1.0000\n",
      "Epoch 48/150\n",
      "806/806 [==============================] - 2s 2ms/step - loss: 1.7740 - accuracy: 1.0000 - val_loss: 1.8130 - val_accuracy: 1.0000\n",
      "Epoch 49/150\n",
      "806/806 [==============================] - 2s 2ms/step - loss: 1.7726 - accuracy: 1.0000 - val_loss: 1.8088 - val_accuracy: 1.0000\n",
      "Epoch 50/150\n",
      "806/806 [==============================] - 2s 2ms/step - loss: 1.7723 - accuracy: 1.0000 - val_loss: 1.8142 - val_accuracy: 1.0000\n",
      "Epoch 51/150\n",
      "806/806 [==============================] - 2s 2ms/step - loss: 1.7703 - accuracy: 1.0000 - val_loss: 1.8023 - val_accuracy: 1.0000\n",
      "Epoch 52/150\n",
      "806/806 [==============================] - 2s 2ms/step - loss: 1.7692 - accuracy: 1.0000 - val_loss: 1.8054 - val_accuracy: 1.0000\n",
      "Epoch 53/150\n",
      "806/806 [==============================] - 2s 2ms/step - loss: 1.7674 - accuracy: 1.0000 - val_loss: 1.8056 - val_accuracy: 1.0000\n",
      "Epoch 54/150\n",
      "806/806 [==============================] - 2s 2ms/step - loss: 1.7671 - accuracy: 1.0000 - val_loss: 1.8095 - val_accuracy: 1.0000\n",
      "Epoch 55/150\n",
      "806/806 [==============================] - 2s 2ms/step - loss: 1.7659 - accuracy: 1.0000 - val_loss: 1.8136 - val_accuracy: 1.0000\n",
      "Epoch 56/150\n",
      "806/806 [==============================] - 2s 2ms/step - loss: 1.7656 - accuracy: 1.0000 - val_loss: 1.8102 - val_accuracy: 1.0000\n",
      "Epoch 57/150\n",
      "806/806 [==============================] - 2s 2ms/step - loss: 1.7635 - accuracy: 1.0000 - val_loss: 1.7995 - val_accuracy: 1.0000\n"
     ]
    },
    {
     "name": "stdout",
     "output_type": "stream",
     "text": [
      "Epoch 58/150\n",
      "806/806 [==============================] - 2s 2ms/step - loss: 1.7635 - accuracy: 1.0000 - val_loss: 1.8007 - val_accuracy: 1.0000\n",
      "Epoch 59/150\n",
      "806/806 [==============================] - 2s 2ms/step - loss: 1.7613 - accuracy: 1.0000 - val_loss: 1.8048 - val_accuracy: 1.0000\n",
      "Epoch 60/150\n",
      "806/806 [==============================] - 2s 2ms/step - loss: 1.7613 - accuracy: 1.0000 - val_loss: 1.7979 - val_accuracy: 1.0000\n",
      "Epoch 61/150\n",
      "806/806 [==============================] - 2s 2ms/step - loss: 1.7601 - accuracy: 1.0000 - val_loss: 1.7988 - val_accuracy: 1.0000\n",
      "Epoch 62/150\n",
      "806/806 [==============================] - 2s 2ms/step - loss: 1.7613 - accuracy: 1.0000 - val_loss: 1.8014 - val_accuracy: 1.0000\n",
      "Epoch 63/150\n",
      "806/806 [==============================] - 2s 2ms/step - loss: 1.7562 - accuracy: 1.0000 - val_loss: 1.8011 - val_accuracy: 1.0000\n",
      "Epoch 64/150\n",
      "806/806 [==============================] - 2s 2ms/step - loss: 1.7587 - accuracy: 1.0000 - val_loss: 1.8029 - val_accuracy: 1.0000\n",
      "Epoch 65/150\n",
      "806/806 [==============================] - 2s 2ms/step - loss: 1.7549 - accuracy: 1.0000 - val_loss: 1.8107 - val_accuracy: 1.0000\n",
      "Epoch 66/150\n",
      "806/806 [==============================] - 2s 2ms/step - loss: 1.7554 - accuracy: 1.0000 - val_loss: 1.7982 - val_accuracy: 1.0000\n",
      "Epoch 67/150\n",
      "806/806 [==============================] - 2s 2ms/step - loss: 1.7542 - accuracy: 1.0000 - val_loss: 1.7969 - val_accuracy: 1.0000\n",
      "Epoch 68/150\n",
      "806/806 [==============================] - 2s 2ms/step - loss: 1.7523 - accuracy: 1.0000 - val_loss: 1.7895 - val_accuracy: 1.0000\n",
      "Epoch 69/150\n",
      "806/806 [==============================] - 2s 2ms/step - loss: 1.7518 - accuracy: 1.0000 - val_loss: 1.7881 - val_accuracy: 1.0000\n",
      "Epoch 70/150\n",
      "806/806 [==============================] - 2s 2ms/step - loss: 1.7513 - accuracy: 1.0000 - val_loss: 1.7970 - val_accuracy: 1.0000\n",
      "Epoch 71/150\n",
      "806/806 [==============================] - 2s 2ms/step - loss: 1.7526 - accuracy: 1.0000 - val_loss: 1.7923 - val_accuracy: 1.0000\n",
      "Epoch 72/150\n",
      "806/806 [==============================] - 2s 2ms/step - loss: 1.7493 - accuracy: 1.0000 - val_loss: 1.7877 - val_accuracy: 1.0000\n",
      "Epoch 73/150\n",
      "806/806 [==============================] - 2s 2ms/step - loss: 1.7497 - accuracy: 1.0000 - val_loss: 1.7927 - val_accuracy: 1.0000\n",
      "Epoch 74/150\n",
      "806/806 [==============================] - 2s 2ms/step - loss: 1.7482 - accuracy: 1.0000 - val_loss: 1.7921 - val_accuracy: 1.0000\n",
      "Epoch 75/150\n",
      "806/806 [==============================] - 2s 2ms/step - loss: 1.7484 - accuracy: 1.0000 - val_loss: 1.8002 - val_accuracy: 1.0000\n",
      "Epoch 76/150\n",
      "806/806 [==============================] - 2s 2ms/step - loss: 1.7470 - accuracy: 1.0000 - val_loss: 1.8074 - val_accuracy: 1.0000\n",
      "Epoch 77/150\n",
      "806/806 [==============================] - 2s 2ms/step - loss: 1.7477 - accuracy: 1.0000 - val_loss: 1.7979 - val_accuracy: 1.0000\n",
      "Epoch 78/150\n",
      "806/806 [==============================] - 2s 2ms/step - loss: 1.7444 - accuracy: 1.0000 - val_loss: 1.7845 - val_accuracy: 1.0000\n",
      "Epoch 79/150\n",
      "806/806 [==============================] - 2s 2ms/step - loss: 1.7422 - accuracy: 1.0000 - val_loss: 1.7832 - val_accuracy: 1.0000\n",
      "Epoch 80/150\n",
      "806/806 [==============================] - 2s 2ms/step - loss: 1.7438 - accuracy: 1.0000 - val_loss: 1.7807 - val_accuracy: 1.0000\n",
      "Epoch 81/150\n",
      "806/806 [==============================] - 2s 2ms/step - loss: 1.7416 - accuracy: 1.0000 - val_loss: 1.7931 - val_accuracy: 1.0000\n",
      "Epoch 82/150\n",
      "806/806 [==============================] - 2s 2ms/step - loss: 1.7416 - accuracy: 1.0000 - val_loss: 1.7716 - val_accuracy: 1.0000\n",
      "Epoch 83/150\n",
      "806/806 [==============================] - 2s 2ms/step - loss: 1.7403 - accuracy: 1.0000 - val_loss: 1.7776 - val_accuracy: 1.0000\n",
      "Epoch 84/150\n",
      "806/806 [==============================] - 2s 2ms/step - loss: 1.7362 - accuracy: 1.0000 - val_loss: 1.7776 - val_accuracy: 1.0000\n",
      "Epoch 85/150\n",
      "806/806 [==============================] - 2s 2ms/step - loss: 1.7372 - accuracy: 1.0000 - val_loss: 1.7737 - val_accuracy: 1.0000\n",
      "Epoch 86/150\n",
      "806/806 [==============================] - 2s 2ms/step - loss: 1.7343 - accuracy: 1.0000 - val_loss: 1.7802 - val_accuracy: 1.0000\n",
      "Epoch 87/150\n",
      "806/806 [==============================] - 2s 2ms/step - loss: 1.7313 - accuracy: 1.0000 - val_loss: 1.7805 - val_accuracy: 1.0000\n",
      "Epoch 88/150\n",
      "806/806 [==============================] - 2s 2ms/step - loss: 1.7320 - accuracy: 1.0000 - val_loss: 1.7757 - val_accuracy: 1.0000\n",
      "Epoch 89/150\n",
      "806/806 [==============================] - 2s 2ms/step - loss: 1.7305 - accuracy: 1.0000 - val_loss: 1.7685 - val_accuracy: 1.0000\n",
      "Epoch 90/150\n",
      "806/806 [==============================] - 2s 2ms/step - loss: 1.7275 - accuracy: 1.0000 - val_loss: 1.7674 - val_accuracy: 1.0000\n",
      "Epoch 91/150\n",
      "806/806 [==============================] - 2s 2ms/step - loss: 1.7262 - accuracy: 1.0000 - val_loss: 1.7672 - val_accuracy: 1.0000\n",
      "Epoch 92/150\n",
      "806/806 [==============================] - 2s 2ms/step - loss: 1.7247 - accuracy: 1.0000 - val_loss: 1.7610 - val_accuracy: 1.0000\n",
      "Epoch 93/150\n",
      "806/806 [==============================] - 2s 2ms/step - loss: 1.7247 - accuracy: 1.0000 - val_loss: 1.7571 - val_accuracy: 1.0000\n",
      "Epoch 94/150\n",
      "806/806 [==============================] - 2s 2ms/step - loss: 1.7229 - accuracy: 1.0000 - val_loss: 1.7577 - val_accuracy: 1.0000\n",
      "Epoch 95/150\n",
      "806/806 [==============================] - 2s 2ms/step - loss: 1.7214 - accuracy: 1.0000 - val_loss: 1.7575 - val_accuracy: 1.0000\n",
      "Epoch 96/150\n",
      "806/806 [==============================] - 2s 2ms/step - loss: 1.7191 - accuracy: 1.0000 - val_loss: 1.7537 - val_accuracy: 1.0000\n",
      "Epoch 97/150\n",
      "806/806 [==============================] - 2s 2ms/step - loss: 1.7180 - accuracy: 1.0000 - val_loss: 1.7558 - val_accuracy: 1.0000\n",
      "Epoch 98/150\n",
      "806/806 [==============================] - 2s 2ms/step - loss: 1.7164 - accuracy: 1.0000 - val_loss: 1.7641 - val_accuracy: 1.0000\n",
      "Epoch 99/150\n",
      "806/806 [==============================] - 2s 2ms/step - loss: 1.7153 - accuracy: 1.0000 - val_loss: 1.7436 - val_accuracy: 1.0000\n",
      "Epoch 100/150\n",
      "806/806 [==============================] - 2s 2ms/step - loss: 1.7130 - accuracy: 1.0000 - val_loss: 1.7563 - val_accuracy: 1.0000\n",
      "Epoch 101/150\n",
      "806/806 [==============================] - 2s 2ms/step - loss: 1.7126 - accuracy: 1.0000 - val_loss: 1.7426 - val_accuracy: 1.0000\n",
      "Epoch 102/150\n",
      "806/806 [==============================] - 2s 2ms/step - loss: 1.7096 - accuracy: 1.0000 - val_loss: 1.7458 - val_accuracy: 1.0000\n",
      "Epoch 103/150\n",
      "806/806 [==============================] - 2s 2ms/step - loss: 1.7102 - accuracy: 1.0000 - val_loss: 1.7533 - val_accuracy: 1.0000\n",
      "Epoch 104/150\n",
      "806/806 [==============================] - 2s 2ms/step - loss: 1.7086 - accuracy: 1.0000 - val_loss: 1.7471 - val_accuracy: 1.0000\n",
      "Epoch 105/150\n",
      "806/806 [==============================] - 2s 2ms/step - loss: 1.7075 - accuracy: 1.0000 - val_loss: 1.7495 - val_accuracy: 1.0000\n",
      "Epoch 106/150\n",
      "806/806 [==============================] - 2s 2ms/step - loss: 1.7088 - accuracy: 1.0000 - val_loss: 1.7431 - val_accuracy: 1.0000\n",
      "Epoch 107/150\n",
      "806/806 [==============================] - 2s 2ms/step - loss: 1.7061 - accuracy: 1.0000 - val_loss: 1.7381 - val_accuracy: 1.0000\n",
      "Epoch 108/150\n",
      "806/806 [==============================] - 2s 2ms/step - loss: 1.7032 - accuracy: 1.0000 - val_loss: 1.7466 - val_accuracy: 1.0000\n",
      "Epoch 109/150\n",
      "806/806 [==============================] - 2s 2ms/step - loss: 1.7032 - accuracy: 1.0000 - val_loss: 1.7485 - val_accuracy: 1.0000\n",
      "Epoch 110/150\n",
      "806/806 [==============================] - 2s 2ms/step - loss: 1.7037 - accuracy: 1.0000 - val_loss: 1.7303 - val_accuracy: 1.0000\n",
      "Epoch 111/150\n",
      "806/806 [==============================] - 2s 2ms/step - loss: 1.6995 - accuracy: 1.0000 - val_loss: 1.7364 - val_accuracy: 1.0000\n",
      "Epoch 112/150\n",
      "806/806 [==============================] - 2s 2ms/step - loss: 1.7018 - accuracy: 1.0000 - val_loss: 1.7716 - val_accuracy: 1.0000\n",
      "Epoch 113/150\n",
      "806/806 [==============================] - 2s 2ms/step - loss: 1.6996 - accuracy: 1.0000 - val_loss: 1.7353 - val_accuracy: 1.0000\n",
      "Epoch 114/150\n",
      "806/806 [==============================] - 2s 2ms/step - loss: 1.6996 - accuracy: 1.0000 - val_loss: 1.7294 - val_accuracy: 1.0000\n"
     ]
    },
    {
     "name": "stdout",
     "output_type": "stream",
     "text": [
      "Epoch 115/150\n",
      "806/806 [==============================] - 2s 2ms/step - loss: 1.7002 - accuracy: 1.0000 - val_loss: 1.7270 - val_accuracy: 1.0000\n",
      "Epoch 116/150\n",
      "806/806 [==============================] - 2s 2ms/step - loss: 1.6985 - accuracy: 1.0000 - val_loss: 1.7358 - val_accuracy: 1.0000\n",
      "Epoch 117/150\n",
      "806/806 [==============================] - 2s 2ms/step - loss: 1.6965 - accuracy: 1.0000 - val_loss: 1.7322 - val_accuracy: 1.0000\n",
      "Epoch 118/150\n",
      "806/806 [==============================] - 2s 2ms/step - loss: 1.6968 - accuracy: 1.0000 - val_loss: 1.7297 - val_accuracy: 1.0000\n",
      "Epoch 119/150\n",
      "806/806 [==============================] - 2s 2ms/step - loss: 1.6935 - accuracy: 1.0000 - val_loss: 1.7296 - val_accuracy: 1.0000\n",
      "Epoch 120/150\n",
      "806/806 [==============================] - 2s 2ms/step - loss: 1.6934 - accuracy: 1.0000 - val_loss: 1.7211 - val_accuracy: 1.0000\n",
      "Epoch 121/150\n",
      "806/806 [==============================] - 2s 2ms/step - loss: 1.6916 - accuracy: 1.0000 - val_loss: 1.7313 - val_accuracy: 1.0000\n",
      "Epoch 122/150\n",
      "806/806 [==============================] - 2s 2ms/step - loss: 1.6960 - accuracy: 1.0000 - val_loss: 1.7251 - val_accuracy: 1.0000\n",
      "Epoch 123/150\n",
      "806/806 [==============================] - 2s 2ms/step - loss: 1.6922 - accuracy: 1.0000 - val_loss: 1.7256 - val_accuracy: 1.0000\n",
      "Epoch 124/150\n",
      "806/806 [==============================] - 2s 2ms/step - loss: 1.6919 - accuracy: 1.0000 - val_loss: 1.7378 - val_accuracy: 1.0000\n",
      "Epoch 125/150\n",
      "806/806 [==============================] - 2s 2ms/step - loss: 1.6900 - accuracy: 1.0000 - val_loss: 1.7216 - val_accuracy: 1.0000\n",
      "Epoch 126/150\n",
      "806/806 [==============================] - 2s 2ms/step - loss: 1.6911 - accuracy: 1.0000 - val_loss: 1.7183 - val_accuracy: 1.0000\n",
      "Epoch 127/150\n",
      "806/806 [==============================] - 2s 2ms/step - loss: 1.6898 - accuracy: 1.0000 - val_loss: 1.7229 - val_accuracy: 1.0000\n",
      "Epoch 128/150\n",
      "806/806 [==============================] - 2s 2ms/step - loss: 1.6908 - accuracy: 1.0000 - val_loss: 1.7211 - val_accuracy: 1.0000\n",
      "Epoch 129/150\n",
      "806/806 [==============================] - 2s 2ms/step - loss: 1.6870 - accuracy: 1.0000 - val_loss: 1.7153 - val_accuracy: 1.0000\n",
      "Epoch 130/150\n",
      "806/806 [==============================] - 2s 2ms/step - loss: 1.6877 - accuracy: 1.0000 - val_loss: 1.7160 - val_accuracy: 1.0000\n",
      "Epoch 131/150\n",
      "806/806 [==============================] - 2s 2ms/step - loss: 1.6879 - accuracy: 1.0000 - val_loss: 1.7168 - val_accuracy: 1.0000\n",
      "Epoch 132/150\n",
      "806/806 [==============================] - 2s 2ms/step - loss: 1.6882 - accuracy: 1.0000 - val_loss: 1.7127 - val_accuracy: 1.0000\n",
      "Epoch 133/150\n",
      "806/806 [==============================] - 2s 2ms/step - loss: 1.6872 - accuracy: 1.0000 - val_loss: 1.7201 - val_accuracy: 1.0000\n",
      "Epoch 134/150\n",
      "806/806 [==============================] - 2s 2ms/step - loss: 1.6870 - accuracy: 1.0000 - val_loss: 1.7191 - val_accuracy: 1.0000\n",
      "Epoch 135/150\n",
      "806/806 [==============================] - 2s 2ms/step - loss: 1.6865 - accuracy: 1.0000 - val_loss: 1.7126 - val_accuracy: 1.0000\n",
      "Epoch 136/150\n",
      "806/806 [==============================] - 2s 2ms/step - loss: 1.6843 - accuracy: 1.0000 - val_loss: 1.7107 - val_accuracy: 1.0000\n",
      "Epoch 137/150\n",
      "806/806 [==============================] - 2s 2ms/step - loss: 1.6852 - accuracy: 1.0000 - val_loss: 1.7137 - val_accuracy: 1.0000\n",
      "Epoch 138/150\n",
      "806/806 [==============================] - 2s 2ms/step - loss: 1.6819 - accuracy: 1.0000 - val_loss: 1.7189 - val_accuracy: 1.0000\n",
      "Epoch 139/150\n",
      "806/806 [==============================] - 2s 2ms/step - loss: 1.6817 - accuracy: 1.0000 - val_loss: 1.7083 - val_accuracy: 1.0000\n",
      "Epoch 140/150\n",
      "806/806 [==============================] - 2s 2ms/step - loss: 1.6810 - accuracy: 1.0000 - val_loss: 1.7132 - val_accuracy: 1.0000\n",
      "Epoch 141/150\n",
      "806/806 [==============================] - 2s 2ms/step - loss: 1.6814 - accuracy: 1.0000 - val_loss: 1.7079 - val_accuracy: 1.0000\n",
      "Epoch 142/150\n",
      "806/806 [==============================] - 2s 2ms/step - loss: 1.6812 - accuracy: 1.0000 - val_loss: 1.7084 - val_accuracy: 1.0000\n",
      "Epoch 143/150\n",
      "806/806 [==============================] - 2s 2ms/step - loss: 1.6825 - accuracy: 1.0000 - val_loss: 1.7090 - val_accuracy: 1.0000\n",
      "Epoch 144/150\n",
      "806/806 [==============================] - 2s 2ms/step - loss: 1.6801 - accuracy: 1.0000 - val_loss: 1.7090 - val_accuracy: 1.0000\n",
      "Epoch 145/150\n",
      "806/806 [==============================] - 2s 2ms/step - loss: 1.6821 - accuracy: 1.0000 - val_loss: 1.7090 - val_accuracy: 1.0000\n",
      "Epoch 146/150\n",
      "806/806 [==============================] - 2s 3ms/step - loss: 1.6808 - accuracy: 1.0000 - val_loss: 1.7091 - val_accuracy: 1.0000\n",
      "Epoch 147/150\n",
      "806/806 [==============================] - 2s 2ms/step - loss: 1.6783 - accuracy: 1.0000 - val_loss: 1.7066 - val_accuracy: 1.0000\n",
      "Epoch 148/150\n",
      "806/806 [==============================] - 2s 2ms/step - loss: 1.6790 - accuracy: 1.0000 - val_loss: 1.7117 - val_accuracy: 1.0000\n",
      "Epoch 149/150\n",
      "806/806 [==============================] - 2s 2ms/step - loss: 1.6784 - accuracy: 1.0000 - val_loss: 1.7020 - val_accuracy: 1.0000\n",
      "Epoch 150/150\n",
      "806/806 [==============================] - 2s 2ms/step - loss: 1.6770 - accuracy: 1.0000 - val_loss: 1.7125 - val_accuracy: 1.0000\n"
     ]
    }
   ],
   "source": [
    "history=model.fit(x_train,y_train,validation_split=0.33,epochs=150,batch_size=10)"
   ]
  },
  {
   "cell_type": "markdown",
   "metadata": {},
   "source": [
    "# predict the model"
   ]
  },
  {
   "cell_type": "code",
   "execution_count": 17,
   "metadata": {},
   "outputs": [
    {
     "data": {
      "text/plain": [
       "array([[ 0.8796263 , 74.71558   ],\n",
       "       [ 0.83137476, 66.47049   ],\n",
       "       [ 1.3987957 , 66.835464  ],\n",
       "       ...,\n",
       "       [ 1.3967499 , 72.024185  ],\n",
       "       [ 1.5281421 , 73.74059   ],\n",
       "       [ 1.2616241 , 65.732025  ]], dtype=float32)"
      ]
     },
     "execution_count": 17,
     "metadata": {},
     "output_type": "execute_result"
    }
   ],
   "source": [
    "y_pred=model.predict(x_test)\n",
    "y_pred"
   ]
  },
  {
   "cell_type": "markdown",
   "metadata": {},
   "source": [
    "# Evaluate the model"
   ]
  },
  {
   "cell_type": "code",
   "execution_count": 18,
   "metadata": {},
   "outputs": [
    {
     "name": "stdout",
     "output_type": "stream",
     "text": [
      "94/94 [==============================] - 0s 2ms/step - loss: 1.8254 - accuracy: 1.0000\n",
      "accuracy: 100.00%\n"
     ]
    }
   ],
   "source": [
    "scores=model.evaluate(x_test,y_test)\n",
    "print(\"%s: %.2f%%\" % (model.metrics_names[1], scores[1]*100))"
   ]
  },
  {
   "cell_type": "code",
   "execution_count": 19,
   "metadata": {},
   "outputs": [
    {
     "data": {
      "text/plain": [
       "dict_keys([])"
      ]
     },
     "execution_count": 19,
     "metadata": {},
     "output_type": "execute_result"
    }
   ],
   "source": [
    "model.history.history.keys()"
   ]
  },
  {
   "cell_type": "code",
   "execution_count": 20,
   "metadata": {},
   "outputs": [
    {
     "data": {
      "image/png": "[encoded data removed]",
      "text/plain": [
       "<Figure size 432x288 with 1 Axes>"
      ]
     },
     "metadata": {
      "needs_background": "light"
     },
     "output_type": "display_data"
    }
   ],
   "source": [
    "plt.plot(history.history['accuracy'])\n",
    "plt.plot(history.history['val_accuracy'])\n",
    "plt.title('model accuracy')\n",
    "plt.ylabel('accuracy')\n",
    "plt.xlabel('epoch')\n",
    "plt.legend(['train','test'], loc='upper left')\n",
    "plt.show()"
   ]
  },
  {
   "cell_type": "code",
   "execution_count": 21,
   "metadata": {},
   "outputs": [
    {
     "data": {
      "image/png": "[encoded data removed]",
      "text/plain": [
       "<Figure size 432x288 with 1 Axes>"
      ]
     },
     "metadata": {
      "needs_background": "light"
     },
     "output_type": "display_data"
    }
   ],
   "source": [
    "plt.plot(history.history['loss'])\n",
    "plt.plot(history.history['val_loss'])\n",
    "plt.title('model loss')\n",
    "plt.ylabel('loss')\n",
    "plt.xlabel('epoch')\n",
    "plt.legend(['train','test'], loc='upper left')\n",
    "plt.show()"
   ]
  }
 ],
 "metadata": {
  "kernelspec": {
   "display_name": "Python 3",
   "language": "python",
   "name": "python3"
  },
  "language_info": {
   "codemirror_mode": {
    "name": "ipython",
    "version": 3
   },
   "file_extension": ".py",
   "mimetype": "text/x-python",
   "name": "python",
   "nbconvert_exporter": "python",
   "pygments_lexer": "ipython3",
   "version": "3.8.5"
  }
 },
 "nbformat": 4,
 "nbformat_minor": 4
}
